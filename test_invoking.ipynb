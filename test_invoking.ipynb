{
 "cells": [
  {
   "cell_type": "code",
   "execution_count": 7,
   "id": "df9361d7",
   "metadata": {},
   "outputs": [],
   "source": [
    "import boto3\n",
    "import json\n",
    "import numpy as np\n",
    "runtime = boto3.client(\"runtime.sagemaker\")\n",
    "linear_endpoint=\"DEMO-linear-endpoint-202204182136\"\n",
    "response = runtime.invoke_endpoint(\n",
    "    EndpointName=linear_endpoint, ContentType=\"text/csv\", Body=\"0,60,3,2,1,0,1,1,1,1,2,0,1,1,2,2,1,1,0,2,1,2,0,0,0\\n0,53,4,2,1,0,2,1,2,1,1,1,1,2,1,0,2,1,0,2,1,1,0,0,0\"\n",
    ")\n",
    "result = json.loads(response[\"Body\"].read().decode())\n",
    "test_pred = np.array([r[\"score\"] for r in result[\"predictions\"]])"
   ]
  },
  {
   "cell_type": "code",
   "execution_count": 8,
   "id": "e99ad39e",
   "metadata": {},
   "outputs": [
    {
     "name": "stdout",
     "output_type": "stream",
     "text": [
      "{'predictions': [{'score': 0.0001816804287955165}, {'score': 0.00022837729193270206}]}\n",
      "[0.00018168 0.00022838]\n"
     ]
    }
   ],
   "source": [
    "print(result)\n",
    "print(test_pred)"
   ]
  }
 ],
 "metadata": {
  "kernelspec": {
   "display_name": "conda_python3",
   "language": "python",
   "name": "conda_python3"
  },
  "language_info": {
   "codemirror_mode": {
    "name": "ipython",
    "version": 3
   },
   "file_extension": ".py",
   "mimetype": "text/x-python",
   "name": "python",
   "nbconvert_exporter": "python",
   "pygments_lexer": "ipython3",
   "version": "3.6.13"
  }
 },
 "nbformat": 4,
 "nbformat_minor": 5
}
