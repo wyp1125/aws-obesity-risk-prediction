{
 "cells": [
  {
   "cell_type": "code",
   "execution_count": 1,
   "id": "80f70a03",
   "metadata": {},
   "outputs": [
    {
     "name": "stdout",
     "output_type": "stream",
     "text": [
      "[1] \"Step1\"\n"
     ]
    }
   ],
   "source": [
    "####Import required libraries and start a sagemaker session \n",
    "library(reticulate) \n",
    "sagemaker <- import('sagemaker')\n",
    "session <- sagemaker$Session() \n",
    "role_arn <- sagemaker$get_execution_role()\n",
    "bucket = \"bdx-demo-sagemaker\"\n",
    "library(readr)\n",
    "print(\"Step1\")"
   ]
  },
  {
   "cell_type": "code",
   "execution_count": 8,
   "id": "2aa728d2",
   "metadata": {},
   "outputs": [
    {
     "name": "stderr",
     "output_type": "stream",
     "text": [
      "\u001b[1mRows: \u001b[22m\u001b[34m442519\u001b[39m \u001b[1mColumns: \u001b[22m\u001b[34m6\u001b[39m\n",
      "\u001b[36m──\u001b[39m \u001b[1mColumn specification\u001b[22m \u001b[36m────────────────────────────────────────────────────────\u001b[39m\n",
      "\u001b[1mDelimiter:\u001b[22m \",\"\n",
      "\u001b[32mdbl\u001b[39m (6): eid, gender, age, bmi, freq, prs\n",
      "\n",
      "\u001b[36mℹ\u001b[39m Use `spec()` to retrieve the full column specification for this data.\n",
      "\u001b[36mℹ\u001b[39m Specify the column types or set `show_col_types = FALSE` to quiet this message.\n"
     ]
    },
    {
     "data": {
      "text/html": [
       "<style>\n",
       ".list-inline {list-style: none; margin:0; padding: 0}\n",
       ".list-inline>li {display: inline-block}\n",
       ".list-inline>li:not(:last-child)::after {content: \"\\00b7\"; padding: 0 .5ex}\n",
       "</style>\n",
       "<ol class=list-inline><li>'eid'</li><li>'gender'</li><li>'age'</li><li>'bmi'</li><li>'freq'</li><li>'prs'</li></ol>\n"
      ],
      "text/latex": [
       "\\begin{enumerate*}\n",
       "\\item 'eid'\n",
       "\\item 'gender'\n",
       "\\item 'age'\n",
       "\\item 'bmi'\n",
       "\\item 'freq'\n",
       "\\item 'prs'\n",
       "\\end{enumerate*}\n"
      ],
      "text/markdown": [
       "1. 'eid'\n",
       "2. 'gender'\n",
       "3. 'age'\n",
       "4. 'bmi'\n",
       "5. 'freq'\n",
       "6. 'prs'\n",
       "\n",
       "\n"
      ],
      "text/plain": [
       "[1] \"eid\"    \"gender\" \"age\"    \"bmi\"    \"freq\"   \"prs\"   "
      ]
     },
     "metadata": {},
     "output_type": "display_data"
    },
    {
     "data": {
      "text/html": [
       "442519"
      ],
      "text/latex": [
       "442519"
      ],
      "text/markdown": [
       "442519"
      ],
      "text/plain": [
       "[1] 442519"
      ]
     },
     "metadata": {},
     "output_type": "display_data"
    },
    {
     "data": {
      "text/html": [
       "429582"
      ],
      "text/latex": [
       "429582"
      ],
      "text/markdown": [
       "429582"
      ],
      "text/plain": [
       "[1] 429582"
      ]
     },
     "metadata": {},
     "output_type": "display_data"
    },
    {
     "data": {
      "text/html": [
       "<style>\n",
       ".list-inline {list-style: none; margin:0; padding: 0}\n",
       ".list-inline>li {display: inline-block}\n",
       ".list-inline>li:not(:last-child)::after {content: \"\\00b7\"; padding: 0 .5ex}\n",
       "</style>\n",
       "<ol class=list-inline><li>'eid'</li><li>'gender'</li><li>'age'</li><li>'bmi'</li><li>'freq'</li><li>'prs'</li><li>'obese'</li></ol>\n"
      ],
      "text/latex": [
       "\\begin{enumerate*}\n",
       "\\item 'eid'\n",
       "\\item 'gender'\n",
       "\\item 'age'\n",
       "\\item 'bmi'\n",
       "\\item 'freq'\n",
       "\\item 'prs'\n",
       "\\item 'obese'\n",
       "\\end{enumerate*}\n"
      ],
      "text/markdown": [
       "1. 'eid'\n",
       "2. 'gender'\n",
       "3. 'age'\n",
       "4. 'bmi'\n",
       "5. 'freq'\n",
       "6. 'prs'\n",
       "7. 'obese'\n",
       "\n",
       "\n"
      ],
      "text/plain": [
       "[1] \"eid\"    \"gender\" \"age\"    \"bmi\"    \"freq\"   \"prs\"    \"obese\" "
      ]
     },
     "metadata": {},
     "output_type": "display_data"
    },
    {
     "name": "stdout",
     "output_type": "stream",
     "text": [
      "[1] \"Step2\"\n"
     ]
    }
   ],
   "source": [
    "####Read clinical data from S3, remove rows with NA and generate a new column of obese status based on bmi>30\n",
    "data_file <- 's3://bdx-demo-sagemaker/clinical_dat.csv'\n",
    "clidata <- read_csv(file = sagemaker$s3$S3Downloader$read_file(data_file, sagemaker_session=session),\n",
    "                    col_names = TRUE)\n",
    "colnames(clidata)\n",
    "length(clidata$eid)\n",
    "clidata<-na.omit(clidata)\n",
    "length(clidata$eid)\n",
    "clidata$obese <- as.integer(clidata$bmi>30)\n",
    "colnames(clidata)\n",
    "print(\"Step2\")"
   ]
  },
  {
   "cell_type": "code",
   "execution_count": 9,
   "id": "9f4a6544",
   "metadata": {},
   "outputs": [
    {
     "data": {
      "text/plain": [
       "\n",
       "\tPearson's product-moment correlation\n",
       "\n",
       "data:  clidata$bmi and clidata$age\n",
       "t = 31.042, df = 429580, p-value < 2.2e-16\n",
       "alternative hypothesis: true correlation is not equal to 0\n",
       "95 percent confidence interval:\n",
       " 0.04432412 0.05029148\n",
       "sample estimates:\n",
       "       cor \n",
       "0.04730822 \n"
      ]
     },
     "metadata": {},
     "output_type": "display_data"
    },
    {
     "data": {
      "text/plain": [
       "\n",
       "\tPearson's product-moment correlation\n",
       "\n",
       "data:  clidata$bmi and clidata$gender\n",
       "t = 55.679, df = 429580, p-value < 2.2e-16\n",
       "alternative hypothesis: true correlation is not equal to 0\n",
       "95 percent confidence interval:\n",
       " 0.08167694 0.08761484\n",
       "sample estimates:\n",
       "       cor \n",
       "0.08464664 \n"
      ]
     },
     "metadata": {},
     "output_type": "display_data"
    },
    {
     "data": {
      "text/plain": [
       "\n",
       "\tPearson's product-moment correlation\n",
       "\n",
       "data:  clidata$bmi and clidata$freq\n",
       "t = 83.192, df = 429580, p-value < 2.2e-16\n",
       "alternative hypothesis: true correlation is not equal to 0\n",
       "95 percent confidence interval:\n",
       " 0.1229742 0.1288602\n",
       "sample estimates:\n",
       "      cor \n",
       "0.1259183 \n"
      ]
     },
     "metadata": {},
     "output_type": "display_data"
    },
    {
     "data": {
      "text/plain": [
       "\n",
       "\tPearson's product-moment correlation\n",
       "\n",
       "data:  clidata$bmi and clidata$prs\n",
       "t = 42.932, df = 429580, p-value < 2.2e-16\n",
       "alternative hypothesis: true correlation is not equal to 0\n",
       "95 percent confidence interval:\n",
       " 0.06238455 0.06833975\n",
       "sample estimates:\n",
       "       cor \n",
       "0.06536273 \n"
      ]
     },
     "metadata": {},
     "output_type": "display_data"
    },
    {
     "data": {
      "text/plain": [
       "\n",
       "Call:\n",
       "lm(formula = bmi ~ prs + factor(gender) + age + freq, data = clidata)\n",
       "\n",
       "Residuals:\n",
       "    Min      1Q  Median      3Q     Max \n",
       "-16.166  -3.176  -0.687   2.395  48.355 \n",
       "\n",
       "Coefficients:\n",
       "                 Estimate Std. Error t value Pr(>|t|)    \n",
       "(Intercept)     2.190e+01  7.470e-02  293.11   <2e-16 ***\n",
       "prs             3.690e+00  8.783e-02   42.02   <2e-16 ***\n",
       "factor(gender)1 1.044e+00  1.457e-02   71.67   <2e-16 ***\n",
       "age             2.675e-02  8.933e-04   29.95   <2e-16 ***\n",
       "freq            4.618e-01  4.872e-03   94.79   <2e-16 ***\n",
       "---\n",
       "Signif. codes:  0 ‘***’ 0.001 ‘**’ 0.01 ‘*’ 0.05 ‘.’ 0.1 ‘ ’ 1\n",
       "\n",
       "Residual standard error: 4.681 on 429577 degrees of freedom\n",
       "Multiple R-squared:  0.03369,\tAdjusted R-squared:  0.03368 \n",
       "F-statistic:  3744 on 4 and 429577 DF,  p-value: < 2.2e-16\n"
      ]
     },
     "metadata": {},
     "output_type": "display_data"
    },
    {
     "data": {
      "text/html": [
       "<table class=\"dataframe\">\n",
       "<caption>A tibble: 6 × 5</caption>\n",
       "<thead>\n",
       "\t<tr><th scope=col>eid</th><th scope=col>obese</th><th scope=col>gender</th><th scope=col>age</th><th scope=col>freq</th></tr>\n",
       "\t<tr><th scope=col>&lt;dbl&gt;</th><th scope=col>&lt;int&gt;</th><th scope=col>&lt;dbl&gt;</th><th scope=col>&lt;dbl&gt;</th><th scope=col>&lt;dbl&gt;</th></tr>\n",
       "</thead>\n",
       "<tbody>\n",
       "\t<tr><td>1000015</td><td>0</td><td>0</td><td>64</td><td>5</td></tr>\n",
       "\t<tr><td>1000027</td><td>0</td><td>0</td><td>60</td><td>3</td></tr>\n",
       "\t<tr><td>1000039</td><td>0</td><td>0</td><td>58</td><td>1</td></tr>\n",
       "\t<tr><td>1000040</td><td>0</td><td>1</td><td>66</td><td>3</td></tr>\n",
       "\t<tr><td>1000053</td><td>1</td><td>0</td><td>67</td><td>4</td></tr>\n",
       "\t<tr><td>1000064</td><td>0</td><td>1</td><td>64</td><td>2</td></tr>\n",
       "</tbody>\n",
       "</table>\n"
      ],
      "text/latex": [
       "A tibble: 6 × 5\n",
       "\\begin{tabular}{lllll}\n",
       " eid & obese & gender & age & freq\\\\\n",
       " <dbl> & <int> & <dbl> & <dbl> & <dbl>\\\\\n",
       "\\hline\n",
       "\t 1000015 & 0 & 0 & 64 & 5\\\\\n",
       "\t 1000027 & 0 & 0 & 60 & 3\\\\\n",
       "\t 1000039 & 0 & 0 & 58 & 1\\\\\n",
       "\t 1000040 & 0 & 1 & 66 & 3\\\\\n",
       "\t 1000053 & 1 & 0 & 67 & 4\\\\\n",
       "\t 1000064 & 0 & 1 & 64 & 2\\\\\n",
       "\\end{tabular}\n"
      ],
      "text/markdown": [
       "\n",
       "A tibble: 6 × 5\n",
       "\n",
       "| eid &lt;dbl&gt; | obese &lt;int&gt; | gender &lt;dbl&gt; | age &lt;dbl&gt; | freq &lt;dbl&gt; |\n",
       "|---|---|---|---|---|\n",
       "| 1000015 | 0 | 0 | 64 | 5 |\n",
       "| 1000027 | 0 | 0 | 60 | 3 |\n",
       "| 1000039 | 0 | 0 | 58 | 1 |\n",
       "| 1000040 | 0 | 1 | 66 | 3 |\n",
       "| 1000053 | 1 | 0 | 67 | 4 |\n",
       "| 1000064 | 0 | 1 | 64 | 2 |\n",
       "\n"
      ],
      "text/plain": [
       "  eid     obese gender age freq\n",
       "1 1000015 0     0      64  5   \n",
       "2 1000027 0     0      60  3   \n",
       "3 1000039 0     0      58  1   \n",
       "4 1000040 0     1      66  3   \n",
       "5 1000053 1     0      67  4   \n",
       "6 1000064 0     1      64  2   "
      ]
     },
     "metadata": {},
     "output_type": "display_data"
    }
   ],
   "source": [
    "####Do some preliminary analysis of clinical data to ensure revelance of selected features\n",
    "####Polygenic Risk Scores (prs) was pre-generated from the research project. However, in this demo each\n",
    "####bmi-associated SNP is treated as an individual predictor\n",
    "cor.test(clidata$bmi,clidata$age)\n",
    "cor.test(clidata$bmi,clidata$gender)\n",
    "cor.test(clidata$bmi,clidata$freq)\n",
    "cor.test(clidata$bmi,clidata$prs)\n",
    "summary(lm(bmi~prs+factor(gender)+age+freq,data=clidata))\n",
    "####Keep only the columns for subsequent steps\n",
    "sel_cols=c('eid','obese','gender','age','freq')\n",
    "clidata_1<-clidata[sel_cols]\n",
    "head(clidata_1)"
   ]
  },
  {
   "cell_type": "code",
   "execution_count": 10,
   "id": "8b6f8daf",
   "metadata": {},
   "outputs": [
    {
     "name": "stderr",
     "output_type": "stream",
     "text": [
      "\u001b[1mRows: \u001b[22m\u001b[34m488377\u001b[39m \u001b[1mColumns: \u001b[22m\u001b[34m23\u001b[39m\n",
      "\u001b[36m──\u001b[39m \u001b[1mColumn specification\u001b[22m \u001b[36m────────────────────────────────────────────────────────\u001b[39m\n",
      "\u001b[1mDelimiter:\u001b[22m \"\\t\"\n",
      "\u001b[31mchr\u001b[39m (22): rs3101336, rs543874, rs2820292, rs7903146, rs2176598, rs3817334, r...\n",
      "\u001b[32mdbl\u001b[39m  (1): ID\n",
      "\n",
      "\u001b[36mℹ\u001b[39m Use `spec()` to retrieve the full column specification for this data.\n",
      "\u001b[36mℹ\u001b[39m Specify the column types or set `show_col_types = FALSE` to quiet this message.\n"
     ]
    },
    {
     "data": {
      "text/html": [
       "<style>\n",
       ".list-inline {list-style: none; margin:0; padding: 0}\n",
       ".list-inline>li {display: inline-block}\n",
       ".list-inline>li:not(:last-child)::after {content: \"\\00b7\"; padding: 0 .5ex}\n",
       "</style>\n",
       "<ol class=list-inline><li>'ID'</li><li>'rs3101336'</li><li>'rs543874'</li><li>'rs2820292'</li><li>'rs7903146'</li><li>'rs2176598'</li><li>'rs3817334'</li><li>'rs7138803'</li><li>'rs11057405'</li><li>'rs11847697'</li><li>'rs9925964'</li><li>'rs29941'</li><li>'rs2075650'</li><li>'rs3810291'</li><li>'rs2836754'</li><li>'rs10938397'</li><li>'rs13107325'</li><li>'rs11727676'</li><li>'rs2112347'</li><li>'rs1167827'</li><li>'rs2245368'</li><li>'rs2033732'</li><li>'rs10968576'</li></ol>\n"
      ],
      "text/latex": [
       "\\begin{enumerate*}\n",
       "\\item 'ID'\n",
       "\\item 'rs3101336'\n",
       "\\item 'rs543874'\n",
       "\\item 'rs2820292'\n",
       "\\item 'rs7903146'\n",
       "\\item 'rs2176598'\n",
       "\\item 'rs3817334'\n",
       "\\item 'rs7138803'\n",
       "\\item 'rs11057405'\n",
       "\\item 'rs11847697'\n",
       "\\item 'rs9925964'\n",
       "\\item 'rs29941'\n",
       "\\item 'rs2075650'\n",
       "\\item 'rs3810291'\n",
       "\\item 'rs2836754'\n",
       "\\item 'rs10938397'\n",
       "\\item 'rs13107325'\n",
       "\\item 'rs11727676'\n",
       "\\item 'rs2112347'\n",
       "\\item 'rs1167827'\n",
       "\\item 'rs2245368'\n",
       "\\item 'rs2033732'\n",
       "\\item 'rs10968576'\n",
       "\\end{enumerate*}\n"
      ],
      "text/markdown": [
       "1. 'ID'\n",
       "2. 'rs3101336'\n",
       "3. 'rs543874'\n",
       "4. 'rs2820292'\n",
       "5. 'rs7903146'\n",
       "6. 'rs2176598'\n",
       "7. 'rs3817334'\n",
       "8. 'rs7138803'\n",
       "9. 'rs11057405'\n",
       "10. 'rs11847697'\n",
       "11. 'rs9925964'\n",
       "12. 'rs29941'\n",
       "13. 'rs2075650'\n",
       "14. 'rs3810291'\n",
       "15. 'rs2836754'\n",
       "16. 'rs10938397'\n",
       "17. 'rs13107325'\n",
       "18. 'rs11727676'\n",
       "19. 'rs2112347'\n",
       "20. 'rs1167827'\n",
       "21. 'rs2245368'\n",
       "22. 'rs2033732'\n",
       "23. 'rs10968576'\n",
       "\n",
       "\n"
      ],
      "text/plain": [
       " [1] \"ID\"         \"rs3101336\"  \"rs543874\"   \"rs2820292\"  \"rs7903146\" \n",
       " [6] \"rs2176598\"  \"rs3817334\"  \"rs7138803\"  \"rs11057405\" \"rs11847697\"\n",
       "[11] \"rs9925964\"  \"rs29941\"    \"rs2075650\"  \"rs3810291\"  \"rs2836754\" \n",
       "[16] \"rs10938397\" \"rs13107325\" \"rs11727676\" \"rs2112347\"  \"rs1167827\" \n",
       "[21] \"rs2245368\"  \"rs2033732\"  \"rs10968576\""
      ]
     },
     "metadata": {},
     "output_type": "display_data"
    },
    {
     "name": "stderr",
     "output_type": "stream",
     "text": [
      "\u001b[1mRows: \u001b[22m\u001b[34m97\u001b[39m \u001b[1mColumns: \u001b[22m\u001b[34m7\u001b[39m\n",
      "\u001b[36m──\u001b[39m \u001b[1mColumn specification\u001b[22m \u001b[36m────────────────────────────────────────────────────────\u001b[39m\n",
      "\u001b[1mDelimiter:\u001b[22m \"\\t\"\n",
      "\u001b[31mchr\u001b[39m (3): X1, X2, X3\n",
      "\u001b[32mdbl\u001b[39m (4): X4, X5, X6, X7\n",
      "\n",
      "\u001b[36mℹ\u001b[39m Use `spec()` to retrieve the full column specification for this data.\n",
      "\u001b[36mℹ\u001b[39m Specify the column types or set `show_col_types = FALSE` to quiet this message.\n"
     ]
    },
    {
     "data": {
      "text/html": [
       "<style>\n",
       ".list-inline {list-style: none; margin:0; padding: 0}\n",
       ".list-inline>li {display: inline-block}\n",
       ".list-inline>li:not(:last-child)::after {content: \"\\00b7\"; padding: 0 .5ex}\n",
       "</style>\n",
       "<ol class=list-inline><li>'X1'</li><li>'X2'</li><li>'X3'</li><li>'X4'</li><li>'X5'</li><li>'X6'</li><li>'X7'</li></ol>\n"
      ],
      "text/latex": [
       "\\begin{enumerate*}\n",
       "\\item 'X1'\n",
       "\\item 'X2'\n",
       "\\item 'X3'\n",
       "\\item 'X4'\n",
       "\\item 'X5'\n",
       "\\item 'X6'\n",
       "\\item 'X7'\n",
       "\\end{enumerate*}\n"
      ],
      "text/markdown": [
       "1. 'X1'\n",
       "2. 'X2'\n",
       "3. 'X3'\n",
       "4. 'X4'\n",
       "5. 'X5'\n",
       "6. 'X6'\n",
       "7. 'X7'\n",
       "\n",
       "\n"
      ],
      "text/plain": [
       "[1] \"X1\" \"X2\" \"X3\" \"X4\" \"X5\" \"X6\" \"X7\""
      ]
     },
     "metadata": {},
     "output_type": "display_data"
    }
   ],
   "source": [
    "####Read genotype file from S3 and remove rows with NA.\n",
    "gt_file <- 's3://bdx-demo-sagemaker/obesity.snp.gt'\n",
    "gtdata<- read_delim(file = sagemaker$s3$S3Downloader$read_file(gt_file, sagemaker_session=session),\n",
    "                    col_names = TRUE,delim='\\t')\n",
    "gtdata<-na.omit(gtdata)\n",
    "colnames(gtdata)\n",
    "####Read a GWAS sumstat file from S3 which is used to code genotypes according to numbers of effect alleles for bmi.\n",
    "al_file <- 's3://bdx-demo-sagemaker/obesity.sumstat.pos'\n",
    "aldata<- read_delim(file = sagemaker$s3$S3Downloader$read_file(al_file, sagemaker_session=session),\n",
    "                    col_names = FALSE,delim='\\t')\n",
    "colnames(aldata)"
   ]
  },
  {
   "cell_type": "code",
   "execution_count": 11,
   "id": "b46dc283",
   "metadata": {},
   "outputs": [
    {
     "name": "stdout",
     "output_type": "stream",
     "text": [
      "[1] 1\n",
      "[1] 2\n",
      "[1] 3\n",
      "[1] 4\n",
      "[1] 5\n",
      "[1] 6\n",
      "[1] 7\n",
      "[1] 8\n",
      "[1] 9\n",
      "[1] 10\n",
      "[1] 11\n",
      "[1] 12\n",
      "[1] 13\n",
      "[1] 14\n",
      "[1] 15\n",
      "[1] 16\n",
      "[1] 17\n",
      "[1] 18\n",
      "[1] 19\n",
      "[1] 20\n",
      "[1] 21\n",
      "[1] 22\n"
     ]
    }
   ],
   "source": [
    "####Code the genotypes according to numbers of effect alleles for bmi.\n",
    "library(\"stringr\")\n",
    "snp=colnames(gtdata)[-1]\n",
    "allele=aldata[match(snp,aldata$X1),]$X2\n",
    "gt_coded=gtdata[,1]\n",
    "n=length(snp)\n",
    "for(i in 1:n)\n",
    "{\n",
    "  print(i)\n",
    "  col_ct=str_count(gtdata[[snp[i]]],allele[i])\n",
    "  gt_coded=cbind(gt_coded,col_ct)\n",
    "}\n",
    "colnames(gt_coded)=colnames(gtdata)"
   ]
  },
  {
   "cell_type": "code",
   "execution_count": 35,
   "id": "8b67ef32",
   "metadata": {},
   "outputs": [
    {
     "data": {
      "text/html": [
       "<style>\n",
       ".list-inline {list-style: none; margin:0; padding: 0}\n",
       ".list-inline>li {display: inline-block}\n",
       ".list-inline>li:not(:last-child)::after {content: \"\\00b7\"; padding: 0 .5ex}\n",
       "</style>\n",
       "<ol class=list-inline><li>'eid'</li><li>'obese'</li><li>'gender'</li><li>'age'</li><li>'freq'</li></ol>\n"
      ],
      "text/latex": [
       "\\begin{enumerate*}\n",
       "\\item 'eid'\n",
       "\\item 'obese'\n",
       "\\item 'gender'\n",
       "\\item 'age'\n",
       "\\item 'freq'\n",
       "\\end{enumerate*}\n"
      ],
      "text/markdown": [
       "1. 'eid'\n",
       "2. 'obese'\n",
       "3. 'gender'\n",
       "4. 'age'\n",
       "5. 'freq'\n",
       "\n",
       "\n"
      ],
      "text/plain": [
       "[1] \"eid\"    \"obese\"  \"gender\" \"age\"    \"freq\"  "
      ]
     },
     "metadata": {},
     "output_type": "display_data"
    },
    {
     "data": {
      "text/html": [
       "<style>\n",
       ".list-inline {list-style: none; margin:0; padding: 0}\n",
       ".list-inline>li {display: inline-block}\n",
       ".list-inline>li:not(:last-child)::after {content: \"\\00b7\"; padding: 0 .5ex}\n",
       "</style>\n",
       "<ol class=list-inline><li>'ID'</li><li>'rs3101336'</li><li>'rs543874'</li><li>'rs2820292'</li><li>'rs7903146'</li><li>'rs2176598'</li><li>'rs3817334'</li><li>'rs7138803'</li><li>'rs11057405'</li><li>'rs11847697'</li><li>'rs9925964'</li><li>'rs29941'</li><li>'rs2075650'</li><li>'rs3810291'</li><li>'rs2836754'</li><li>'rs10938397'</li><li>'rs13107325'</li><li>'rs11727676'</li><li>'rs2112347'</li><li>'rs1167827'</li><li>'rs2245368'</li><li>'rs2033732'</li><li>'rs10968576'</li></ol>\n"
      ],
      "text/latex": [
       "\\begin{enumerate*}\n",
       "\\item 'ID'\n",
       "\\item 'rs3101336'\n",
       "\\item 'rs543874'\n",
       "\\item 'rs2820292'\n",
       "\\item 'rs7903146'\n",
       "\\item 'rs2176598'\n",
       "\\item 'rs3817334'\n",
       "\\item 'rs7138803'\n",
       "\\item 'rs11057405'\n",
       "\\item 'rs11847697'\n",
       "\\item 'rs9925964'\n",
       "\\item 'rs29941'\n",
       "\\item 'rs2075650'\n",
       "\\item 'rs3810291'\n",
       "\\item 'rs2836754'\n",
       "\\item 'rs10938397'\n",
       "\\item 'rs13107325'\n",
       "\\item 'rs11727676'\n",
       "\\item 'rs2112347'\n",
       "\\item 'rs1167827'\n",
       "\\item 'rs2245368'\n",
       "\\item 'rs2033732'\n",
       "\\item 'rs10968576'\n",
       "\\end{enumerate*}\n"
      ],
      "text/markdown": [
       "1. 'ID'\n",
       "2. 'rs3101336'\n",
       "3. 'rs543874'\n",
       "4. 'rs2820292'\n",
       "5. 'rs7903146'\n",
       "6. 'rs2176598'\n",
       "7. 'rs3817334'\n",
       "8. 'rs7138803'\n",
       "9. 'rs11057405'\n",
       "10. 'rs11847697'\n",
       "11. 'rs9925964'\n",
       "12. 'rs29941'\n",
       "13. 'rs2075650'\n",
       "14. 'rs3810291'\n",
       "15. 'rs2836754'\n",
       "16. 'rs10938397'\n",
       "17. 'rs13107325'\n",
       "18. 'rs11727676'\n",
       "19. 'rs2112347'\n",
       "20. 'rs1167827'\n",
       "21. 'rs2245368'\n",
       "22. 'rs2033732'\n",
       "23. 'rs10968576'\n",
       "\n",
       "\n"
      ],
      "text/plain": [
       " [1] \"ID\"         \"rs3101336\"  \"rs543874\"   \"rs2820292\"  \"rs7903146\" \n",
       " [6] \"rs2176598\"  \"rs3817334\"  \"rs7138803\"  \"rs11057405\" \"rs11847697\"\n",
       "[11] \"rs9925964\"  \"rs29941\"    \"rs2075650\"  \"rs3810291\"  \"rs2836754\" \n",
       "[16] \"rs10938397\" \"rs13107325\" \"rs11727676\" \"rs2112347\"  \"rs1167827\" \n",
       "[21] \"rs2245368\"  \"rs2033732\"  \"rs10968576\""
      ]
     },
     "metadata": {},
     "output_type": "display_data"
    },
    {
     "data": {
      "text/html": [
       "0"
      ],
      "text/latex": [
       "0"
      ],
      "text/markdown": [
       "0"
      ],
      "text/plain": [
       "[1] 0"
      ]
     },
     "metadata": {},
     "output_type": "display_data"
    },
    {
     "data": {
      "text/html": [
       "<table class=\"dataframe\">\n",
       "<caption>A data.frame: 6 × 28</caption>\n",
       "<thead>\n",
       "\t<tr><th></th><th scope=col>eid</th><th scope=col>obese</th><th scope=col>gender</th><th scope=col>age</th><th scope=col>freq</th><th scope=col>ID</th><th scope=col>rs3101336</th><th scope=col>rs543874</th><th scope=col>rs2820292</th><th scope=col>rs7903146</th><th scope=col>⋯</th><th scope=col>rs3810291</th><th scope=col>rs2836754</th><th scope=col>rs10938397</th><th scope=col>rs13107325</th><th scope=col>rs11727676</th><th scope=col>rs2112347</th><th scope=col>rs1167827</th><th scope=col>rs2245368</th><th scope=col>rs2033732</th><th scope=col>rs10968576</th></tr>\n",
       "\t<tr><th></th><th scope=col>&lt;dbl&gt;</th><th scope=col>&lt;int&gt;</th><th scope=col>&lt;dbl&gt;</th><th scope=col>&lt;dbl&gt;</th><th scope=col>&lt;dbl&gt;</th><th scope=col>&lt;dbl&gt;</th><th scope=col>&lt;int&gt;</th><th scope=col>&lt;int&gt;</th><th scope=col>&lt;int&gt;</th><th scope=col>&lt;int&gt;</th><th scope=col>⋯</th><th scope=col>&lt;int&gt;</th><th scope=col>&lt;int&gt;</th><th scope=col>&lt;int&gt;</th><th scope=col>&lt;int&gt;</th><th scope=col>&lt;int&gt;</th><th scope=col>&lt;int&gt;</th><th scope=col>&lt;int&gt;</th><th scope=col>&lt;int&gt;</th><th scope=col>&lt;int&gt;</th><th scope=col>&lt;int&gt;</th></tr>\n",
       "</thead>\n",
       "<tbody>\n",
       "\t<tr><th scope=row>316020</th><td>1000015</td><td>0</td><td>0</td><td>64</td><td>5</td><td>1000015</td><td>2</td><td>0</td><td>2</td><td>1</td><td>⋯</td><td>1</td><td>2</td><td>1</td><td>0</td><td>2</td><td>2</td><td>1</td><td>1</td><td>2</td><td>0</td></tr>\n",
       "\t<tr><th scope=row>430032</th><td>1000027</td><td>0</td><td>0</td><td>60</td><td>3</td><td>1000027</td><td>2</td><td>1</td><td>0</td><td>1</td><td>⋯</td><td>2</td><td>1</td><td>1</td><td>0</td><td>2</td><td>1</td><td>2</td><td>0</td><td>0</td><td>0</td></tr>\n",
       "\t<tr><th scope=row>250516</th><td>1000039</td><td>0</td><td>0</td><td>58</td><td>1</td><td>1000039</td><td>2</td><td>0</td><td>0</td><td>1</td><td>⋯</td><td>2</td><td>0</td><td>0</td><td>0</td><td>2</td><td>1</td><td>2</td><td>1</td><td>1</td><td>1</td></tr>\n",
       "\t<tr><th scope=row>478428</th><td>1000040</td><td>0</td><td>1</td><td>66</td><td>3</td><td>1000040</td><td>1</td><td>0</td><td>2</td><td>1</td><td>⋯</td><td>1</td><td>1</td><td>1</td><td>0</td><td>2</td><td>1</td><td>2</td><td>0</td><td>2</td><td>0</td></tr>\n",
       "\t<tr><th scope=row>249258</th><td>1000053</td><td>1</td><td>0</td><td>67</td><td>4</td><td>1000053</td><td>1</td><td>1</td><td>1</td><td>1</td><td>⋯</td><td>2</td><td>1</td><td>2</td><td>1</td><td>2</td><td>2</td><td>1</td><td>0</td><td>2</td><td>0</td></tr>\n",
       "\t<tr><th scope=row>195331</th><td>1000064</td><td>0</td><td>1</td><td>64</td><td>2</td><td>1000064</td><td>1</td><td>0</td><td>0</td><td>2</td><td>⋯</td><td>1</td><td>2</td><td>2</td><td>1</td><td>1</td><td>0</td><td>2</td><td>1</td><td>2</td><td>1</td></tr>\n",
       "</tbody>\n",
       "</table>\n"
      ],
      "text/latex": [
       "A data.frame: 6 × 28\n",
       "\\begin{tabular}{r|lllllllllllllllllllll}\n",
       "  & eid & obese & gender & age & freq & ID & rs3101336 & rs543874 & rs2820292 & rs7903146 & ⋯ & rs3810291 & rs2836754 & rs10938397 & rs13107325 & rs11727676 & rs2112347 & rs1167827 & rs2245368 & rs2033732 & rs10968576\\\\\n",
       "  & <dbl> & <int> & <dbl> & <dbl> & <dbl> & <dbl> & <int> & <int> & <int> & <int> & ⋯ & <int> & <int> & <int> & <int> & <int> & <int> & <int> & <int> & <int> & <int>\\\\\n",
       "\\hline\n",
       "\t316020 & 1000015 & 0 & 0 & 64 & 5 & 1000015 & 2 & 0 & 2 & 1 & ⋯ & 1 & 2 & 1 & 0 & 2 & 2 & 1 & 1 & 2 & 0\\\\\n",
       "\t430032 & 1000027 & 0 & 0 & 60 & 3 & 1000027 & 2 & 1 & 0 & 1 & ⋯ & 2 & 1 & 1 & 0 & 2 & 1 & 2 & 0 & 0 & 0\\\\\n",
       "\t250516 & 1000039 & 0 & 0 & 58 & 1 & 1000039 & 2 & 0 & 0 & 1 & ⋯ & 2 & 0 & 0 & 0 & 2 & 1 & 2 & 1 & 1 & 1\\\\\n",
       "\t478428 & 1000040 & 0 & 1 & 66 & 3 & 1000040 & 1 & 0 & 2 & 1 & ⋯ & 1 & 1 & 1 & 0 & 2 & 1 & 2 & 0 & 2 & 0\\\\\n",
       "\t249258 & 1000053 & 1 & 0 & 67 & 4 & 1000053 & 1 & 1 & 1 & 1 & ⋯ & 2 & 1 & 2 & 1 & 2 & 2 & 1 & 0 & 2 & 0\\\\\n",
       "\t195331 & 1000064 & 0 & 1 & 64 & 2 & 1000064 & 1 & 0 & 0 & 2 & ⋯ & 1 & 2 & 2 & 1 & 1 & 0 & 2 & 1 & 2 & 1\\\\\n",
       "\\end{tabular}\n"
      ],
      "text/markdown": [
       "\n",
       "A data.frame: 6 × 28\n",
       "\n",
       "| <!--/--> | eid &lt;dbl&gt; | obese &lt;int&gt; | gender &lt;dbl&gt; | age &lt;dbl&gt; | freq &lt;dbl&gt; | ID &lt;dbl&gt; | rs3101336 &lt;int&gt; | rs543874 &lt;int&gt; | rs2820292 &lt;int&gt; | rs7903146 &lt;int&gt; | ⋯ ⋯ | rs3810291 &lt;int&gt; | rs2836754 &lt;int&gt; | rs10938397 &lt;int&gt; | rs13107325 &lt;int&gt; | rs11727676 &lt;int&gt; | rs2112347 &lt;int&gt; | rs1167827 &lt;int&gt; | rs2245368 &lt;int&gt; | rs2033732 &lt;int&gt; | rs10968576 &lt;int&gt; |\n",
       "|---|---|---|---|---|---|---|---|---|---|---|---|---|---|---|---|---|---|---|---|---|---|\n",
       "| 316020 | 1000015 | 0 | 0 | 64 | 5 | 1000015 | 2 | 0 | 2 | 1 | ⋯ | 1 | 2 | 1 | 0 | 2 | 2 | 1 | 1 | 2 | 0 |\n",
       "| 430032 | 1000027 | 0 | 0 | 60 | 3 | 1000027 | 2 | 1 | 0 | 1 | ⋯ | 2 | 1 | 1 | 0 | 2 | 1 | 2 | 0 | 0 | 0 |\n",
       "| 250516 | 1000039 | 0 | 0 | 58 | 1 | 1000039 | 2 | 0 | 0 | 1 | ⋯ | 2 | 0 | 0 | 0 | 2 | 1 | 2 | 1 | 1 | 1 |\n",
       "| 478428 | 1000040 | 0 | 1 | 66 | 3 | 1000040 | 1 | 0 | 2 | 1 | ⋯ | 1 | 1 | 1 | 0 | 2 | 1 | 2 | 0 | 2 | 0 |\n",
       "| 249258 | 1000053 | 1 | 0 | 67 | 4 | 1000053 | 1 | 1 | 1 | 1 | ⋯ | 2 | 1 | 2 | 1 | 2 | 2 | 1 | 0 | 2 | 0 |\n",
       "| 195331 | 1000064 | 0 | 1 | 64 | 2 | 1000064 | 1 | 0 | 0 | 2 | ⋯ | 1 | 2 | 2 | 1 | 1 | 0 | 2 | 1 | 2 | 1 |\n",
       "\n"
      ],
      "text/plain": [
       "       eid     obese gender age freq ID      rs3101336 rs543874 rs2820292\n",
       "316020 1000015 0     0      64  5    1000015 2         0        2        \n",
       "430032 1000027 0     0      60  3    1000027 2         1        0        \n",
       "250516 1000039 0     0      58  1    1000039 2         0        0        \n",
       "478428 1000040 0     1      66  3    1000040 1         0        2        \n",
       "249258 1000053 1     0      67  4    1000053 1         1        1        \n",
       "195331 1000064 0     1      64  2    1000064 1         0        0        \n",
       "       rs7903146 ⋯ rs3810291 rs2836754 rs10938397 rs13107325 rs11727676\n",
       "316020 1         ⋯ 1         2         1          0          2         \n",
       "430032 1         ⋯ 2         1         1          0          2         \n",
       "250516 1         ⋯ 2         0         0          0          2         \n",
       "478428 1         ⋯ 1         1         1          0          2         \n",
       "249258 1         ⋯ 2         1         2          1          2         \n",
       "195331 2         ⋯ 1         2         2          1          1         \n",
       "       rs2112347 rs1167827 rs2245368 rs2033732 rs10968576\n",
       "316020 2         1         1         2         0         \n",
       "430032 1         2         0         0         0         \n",
       "250516 1         2         1         1         1         \n",
       "478428 1         2         0         2         0         \n",
       "249258 2         1         0         2         0         \n",
       "195331 0         2         1         2         1         "
      ]
     },
     "metadata": {},
     "output_type": "display_data"
    },
    {
     "name": "stderr",
     "output_type": "stream",
     "text": [
      "\n",
      "Attaching package: ‘dplyr’\n",
      "\n",
      "\n",
      "The following objects are masked from ‘package:stats’:\n",
      "\n",
      "    filter, lag\n",
      "\n",
      "\n",
      "The following objects are masked from ‘package:base’:\n",
      "\n",
      "    intersect, setdiff, setequal, union\n",
      "\n",
      "\n"
     ]
    }
   ],
   "source": [
    "####Merge clinical data and gentopye data\n",
    "colnames(clidata_1)\n",
    "colnames(gt_coded)\n",
    "matched_ids=match(clidata_1$eid,gt_coded$ID)\n",
    "####Examine if there is unmatched IDs\n",
    "sum(is.na(matched_ids))\n",
    "####Merge\n",
    "processed_data=cbind(clidata_1,gt_coded[matched_ids,])\n",
    "####Double check IDs are matched correctly\n",
    "head(processed_data)\n",
    "####Remove duplicate columns\n",
    "library(dplyr)\n",
    "undesired <- c('ID')\n",
    "processed_data <- processed_data %>% select(-one_of(undesired))"
   ]
  },
  {
   "cell_type": "code",
   "execution_count": 37,
   "id": "85515845",
   "metadata": {},
   "outputs": [],
   "source": [
    "####Save the dataset for training and upload to S3\n",
    "write_csv(processed_data, 'obesity_training_data.csv', col_names = FALSE)\n",
    "s3_train <- session$upload_data(path = 'obesity_training_data.csv', \n",
    "                                bucket = bucket,\n",
    "                                key_prefix = 'data')"
   ]
  },
  {
   "cell_type": "code",
   "execution_count": null,
   "id": "ee810e9e",
   "metadata": {},
   "outputs": [],
   "source": []
  }
 ],
 "metadata": {
  "kernelspec": {
   "display_name": "R",
   "language": "R",
   "name": "ir"
  },
  "language_info": {
   "codemirror_mode": "r",
   "file_extension": ".r",
   "mimetype": "text/x-r-source",
   "name": "R",
   "pygments_lexer": "r",
   "version": "4.1.2"
  }
 },
 "nbformat": 4,
 "nbformat_minor": 5
}
